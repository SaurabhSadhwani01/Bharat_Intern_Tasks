{
 "cells": [
  {
   "cell_type": "markdown",
   "id": "3a178314-eba2-4a8b-9322-56bbdef78338",
   "metadata": {},
   "source": [
    "# Titanic Classification - Using Logistic Regression\n",
    "## Titanic Dataset : Kaggle (https://www.kaggle.com/datasets/yasserh/titanic-dataset?resource=download)"
   ]
  },
  {
   "cell_type": "markdown",
   "id": "019a2b1d-8631-434c-b54e-d9b56a0f32a1",
   "metadata": {},
   "source": [
    "## Step 1 : Data Preprocessing"
   ]
  },
  {
   "cell_type": "markdown",
   "id": "623c1fc3-9c12-4026-9913-bb1dc9151591",
   "metadata": {},
   "source": [
    "### Importing Libraries"
   ]
  },
  {
   "cell_type": "code",
   "execution_count": 1,
   "id": "1dc5e77e-4cbb-4bf7-b41f-a4c2918fd09d",
   "metadata": {},
   "outputs": [],
   "source": [
    "import pandas as pd\n",
    "import numpy as np\n",
    "import matplotlib.pyplot as plt"
   ]
  },
  {
   "cell_type": "markdown",
   "id": "12f49684-1291-4293-99c6-7268e52c38f6",
   "metadata": {},
   "source": [
    "### Reading The Dataset"
   ]
  },
  {
   "cell_type": "code",
   "execution_count": 2,
   "id": "a633f664-57c6-4b02-a2f3-6f9e0165ebfa",
   "metadata": {},
   "outputs": [],
   "source": [
    "titanic_df=pd.read_csv(r'E:\\Machine Learning Projects\\Titanic Classification\\Titanic-Dataset.csv')"
   ]
  },
  {
   "cell_type": "markdown",
   "id": "55b08313-9e5d-40f1-a515-6da5773415f5",
   "metadata": {},
   "source": [
    "### Filling Missing Values and Cleaning the Dataset"
   ]
  },
  {
   "cell_type": "code",
   "execution_count": 3,
   "id": "706012e0-dbb6-4f90-9a7d-6d78bf2554f5",
   "metadata": {},
   "outputs": [
    {
     "data": {
      "text/plain": [
       "PassengerId    0\n",
       "Survived       0\n",
       "Pclass         0\n",
       "Name           0\n",
       "Sex            0\n",
       "Age            0\n",
       "SibSp          0\n",
       "Parch          0\n",
       "Ticket         0\n",
       "Fare           0\n",
       "Embarked       0\n",
       "dtype: int64"
      ]
     },
     "execution_count": 3,
     "metadata": {},
     "output_type": "execute_result"
    }
   ],
   "source": [
    "titanic_df.isnull().sum()\n",
    "\n",
    "# Fill missing values for 'Age' with the median age\n",
    "titanic_df['Age'].fillna(titanic_df['Age'].median(), inplace=True)\n",
    "\n",
    "# Fill missing values for 'Embarked' with the mode (most common value)\n",
    "titanic_df['Embarked'].fillna(titanic_df['Embarked'].mode()[0], inplace=True)\n",
    "\n",
    "# Drop the 'Cabin' column as it has too many missing values\n",
    "titanic_df.drop(columns=['Cabin'], inplace=True)\n",
    "\n",
    "# Verify that there are no more missing values\n",
    "titanic_df.isnull().sum()"
   ]
  },
  {
   "cell_type": "markdown",
   "id": "92d988d8-e2ac-4bc7-ad65-b5285841f92c",
   "metadata": {},
   "source": [
    "## Step 2 : Feature Scaling \n",
    "### Label Encoding for 'Sex' and 'Embarked Column amd Selecting Relevant Columns (Features)"
   ]
  },
  {
   "cell_type": "code",
   "execution_count": 4,
   "id": "ed365c8e-4dac-4524-9020-90bf6a98e5b6",
   "metadata": {},
   "outputs": [
    {
     "data": {
      "text/plain": [
       "(   Pclass  Sex   Age  SibSp  Parch     Fare  Embarked\n",
       " 0       3    1  22.0      1      0   7.2500         2\n",
       " 1       1    0  38.0      1      0  71.2833         0\n",
       " 2       3    0  26.0      0      0   7.9250         2\n",
       " 3       1    0  35.0      1      0  53.1000         2\n",
       " 4       3    1  35.0      0      0   8.0500         2,\n",
       " 0    0\n",
       " 1    1\n",
       " 2    1\n",
       " 3    1\n",
       " 4    0\n",
       " Name: Survived, dtype: int64)"
      ]
     },
     "execution_count": 4,
     "metadata": {},
     "output_type": "execute_result"
    }
   ],
   "source": [
    "from sklearn.preprocessing import LabelEncoder\n",
    "\n",
    "# Encode 'Sex' column\n",
    "le_sex = LabelEncoder()\n",
    "titanic_df['Sex'] = le_sex.fit_transform(titanic_df['Sex'])\n",
    "\n",
    "# Encode 'Embarked' column\n",
    "le_embarked = LabelEncoder()\n",
    "titanic_df['Embarked'] = le_embarked.fit_transform(titanic_df['Embarked'])\n",
    "\n",
    "# Select relevant features for the model\n",
    "features = ['Pclass', 'Sex', 'Age', 'SibSp', 'Parch', 'Fare', 'Embarked']\n",
    "X = titanic_df[features]\n",
    "y = titanic_df['Survived']\n",
    "\n",
    "# Display the first few rows of the processed data\n",
    "X.head(), y.head()"
   ]
  },
  {
   "cell_type": "markdown",
   "id": "8b099ccb-b469-4cd7-b396-cc29f4a412e6",
   "metadata": {},
   "source": [
    "## Step 3 : Splitting Dataset into Training and Testing Data"
   ]
  },
  {
   "cell_type": "code",
   "execution_count": 5,
   "id": "5a105848-a035-471c-84c2-3b9d929de03e",
   "metadata": {},
   "outputs": [],
   "source": [
    "from sklearn.model_selection import train_test_split\n",
    "X_train, X_test, y_train, y_test = train_test_split(X, y, test_size=0.2, random_state=0)"
   ]
  },
  {
   "cell_type": "markdown",
   "id": "869e7093-f015-419a-9a37-95e71f3bc460",
   "metadata": {},
   "source": [
    "## Step 4 : Building A Logistic Regression Model and Training it on Training Dataset"
   ]
  },
  {
   "cell_type": "code",
   "execution_count": 6,
   "id": "c4a1e894-4a30-40ff-84f7-946f7367a797",
   "metadata": {},
   "outputs": [
    {
     "data": {
      "text/html": [
       "<style>#sk-container-id-1 {color: black;background-color: white;}#sk-container-id-1 pre{padding: 0;}#sk-container-id-1 div.sk-toggleable {background-color: white;}#sk-container-id-1 label.sk-toggleable__label {cursor: pointer;display: block;width: 100%;margin-bottom: 0;padding: 0.3em;box-sizing: border-box;text-align: center;}#sk-container-id-1 label.sk-toggleable__label-arrow:before {content: \"▸\";float: left;margin-right: 0.25em;color: #696969;}#sk-container-id-1 label.sk-toggleable__label-arrow:hover:before {color: black;}#sk-container-id-1 div.sk-estimator:hover label.sk-toggleable__label-arrow:before {color: black;}#sk-container-id-1 div.sk-toggleable__content {max-height: 0;max-width: 0;overflow: hidden;text-align: left;background-color: #f0f8ff;}#sk-container-id-1 div.sk-toggleable__content pre {margin: 0.2em;color: black;border-radius: 0.25em;background-color: #f0f8ff;}#sk-container-id-1 input.sk-toggleable__control:checked~div.sk-toggleable__content {max-height: 200px;max-width: 100%;overflow: auto;}#sk-container-id-1 input.sk-toggleable__control:checked~label.sk-toggleable__label-arrow:before {content: \"▾\";}#sk-container-id-1 div.sk-estimator input.sk-toggleable__control:checked~label.sk-toggleable__label {background-color: #d4ebff;}#sk-container-id-1 div.sk-label input.sk-toggleable__control:checked~label.sk-toggleable__label {background-color: #d4ebff;}#sk-container-id-1 input.sk-hidden--visually {border: 0;clip: rect(1px 1px 1px 1px);clip: rect(1px, 1px, 1px, 1px);height: 1px;margin: -1px;overflow: hidden;padding: 0;position: absolute;width: 1px;}#sk-container-id-1 div.sk-estimator {font-family: monospace;background-color: #f0f8ff;border: 1px dotted black;border-radius: 0.25em;box-sizing: border-box;margin-bottom: 0.5em;}#sk-container-id-1 div.sk-estimator:hover {background-color: #d4ebff;}#sk-container-id-1 div.sk-parallel-item::after {content: \"\";width: 100%;border-bottom: 1px solid gray;flex-grow: 1;}#sk-container-id-1 div.sk-label:hover label.sk-toggleable__label {background-color: #d4ebff;}#sk-container-id-1 div.sk-serial::before {content: \"\";position: absolute;border-left: 1px solid gray;box-sizing: border-box;top: 0;bottom: 0;left: 50%;z-index: 0;}#sk-container-id-1 div.sk-serial {display: flex;flex-direction: column;align-items: center;background-color: white;padding-right: 0.2em;padding-left: 0.2em;position: relative;}#sk-container-id-1 div.sk-item {position: relative;z-index: 1;}#sk-container-id-1 div.sk-parallel {display: flex;align-items: stretch;justify-content: center;background-color: white;position: relative;}#sk-container-id-1 div.sk-item::before, #sk-container-id-1 div.sk-parallel-item::before {content: \"\";position: absolute;border-left: 1px solid gray;box-sizing: border-box;top: 0;bottom: 0;left: 50%;z-index: -1;}#sk-container-id-1 div.sk-parallel-item {display: flex;flex-direction: column;z-index: 1;position: relative;background-color: white;}#sk-container-id-1 div.sk-parallel-item:first-child::after {align-self: flex-end;width: 50%;}#sk-container-id-1 div.sk-parallel-item:last-child::after {align-self: flex-start;width: 50%;}#sk-container-id-1 div.sk-parallel-item:only-child::after {width: 0;}#sk-container-id-1 div.sk-dashed-wrapped {border: 1px dashed gray;margin: 0 0.4em 0.5em 0.4em;box-sizing: border-box;padding-bottom: 0.4em;background-color: white;}#sk-container-id-1 div.sk-label label {font-family: monospace;font-weight: bold;display: inline-block;line-height: 1.2em;}#sk-container-id-1 div.sk-label-container {text-align: center;}#sk-container-id-1 div.sk-container {/* jupyter's `normalize.less` sets `[hidden] { display: none; }` but bootstrap.min.css set `[hidden] { display: none !important; }` so we also need the `!important` here to be able to override the default hidden behavior on the sphinx rendered scikit-learn.org. See: https://github.com/scikit-learn/scikit-learn/issues/21755 */display: inline-block !important;position: relative;}#sk-container-id-1 div.sk-text-repr-fallback {display: none;}</style><div id=\"sk-container-id-1\" class=\"sk-top-container\"><div class=\"sk-text-repr-fallback\"><pre>LogisticRegression(max_iter=200)</pre><b>In a Jupyter environment, please rerun this cell to show the HTML representation or trust the notebook. <br />On GitHub, the HTML representation is unable to render, please try loading this page with nbviewer.org.</b></div><div class=\"sk-container\" hidden><div class=\"sk-item\"><div class=\"sk-estimator sk-toggleable\"><input class=\"sk-toggleable__control sk-hidden--visually\" id=\"sk-estimator-id-1\" type=\"checkbox\" checked><label for=\"sk-estimator-id-1\" class=\"sk-toggleable__label sk-toggleable__label-arrow\">LogisticRegression</label><div class=\"sk-toggleable__content\"><pre>LogisticRegression(max_iter=200)</pre></div></div></div></div></div>"
      ],
      "text/plain": [
       "LogisticRegression(max_iter=200)"
      ]
     },
     "execution_count": 6,
     "metadata": {},
     "output_type": "execute_result"
    }
   ],
   "source": [
    "from sklearn.linear_model import LogisticRegression\n",
    "model = LogisticRegression(max_iter=200)\n",
    "model.fit(X_train, y_train)"
   ]
  },
  {
   "cell_type": "markdown",
   "id": "99e0ae98-78cf-475f-af8b-5aecbc9b6928",
   "metadata": {},
   "source": [
    "## Step 5 : Evaluating our Model by Creating Matrix and Determining Accuracy"
   ]
  },
  {
   "cell_type": "code",
   "execution_count": 7,
   "id": "3c7fce67-2b44-46ff-bbe2-73ab87d4ffc4",
   "metadata": {},
   "outputs": [
    {
     "data": {
      "text/plain": [
       "(0.7988826815642458,\n",
       " array([[92, 18],\n",
       "        [18, 51]], dtype=int64),\n",
       " '              precision    recall  f1-score   support\\n\\n           0       0.84      0.84      0.84       110\\n           1       0.74      0.74      0.74        69\\n\\n    accuracy                           0.80       179\\n   macro avg       0.79      0.79      0.79       179\\nweighted avg       0.80      0.80      0.80       179\\n')"
      ]
     },
     "execution_count": 7,
     "metadata": {},
     "output_type": "execute_result"
    }
   ],
   "source": [
    "from sklearn.metrics import accuracy_score, confusion_matrix, classification_report\n",
    "y_pred = model.predict(X_test)\n",
    "accuracy = accuracy_score(y_test, y_pred)\n",
    "conf_matrix = confusion_matrix(y_test, y_pred)\n",
    "class_report = classification_report(y_test, y_pred)\n",
    "\n",
    "accuracy, conf_matrix, class_report"
   ]
  },
  {
   "cell_type": "markdown",
   "id": "e69f6e22-70f1-4657-8cf8-150927a6e088",
   "metadata": {},
   "source": [
    "#### Accuracy - 79%\n",
    "#### Correct Predictions : 92 and 51 \n",
    "#### Incorrect Prediction : 18 and 18"
   ]
  }
 ],
 "metadata": {
  "kernelspec": {
   "display_name": "Python 3 (ipykernel)",
   "language": "python",
   "name": "python3"
  },
  "language_info": {
   "codemirror_mode": {
    "name": "ipython",
    "version": 3
   },
   "file_extension": ".py",
   "mimetype": "text/x-python",
   "name": "python",
   "nbconvert_exporter": "python",
   "pygments_lexer": "ipython3",
   "version": "3.11.7"
  },
  "widgets": {
   "application/vnd.jupyter.widget-state+json": {
    "state": {},
    "version_major": 2,
    "version_minor": 0
   }
  }
 },
 "nbformat": 4,
 "nbformat_minor": 5
}
